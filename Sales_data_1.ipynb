{
 "cells": [
  {
   "cell_type": "code",
   "execution_count": 20,
   "id": "9c356f81",
   "metadata": {},
   "outputs": [],
   "source": [
    "import pandas as pd\n",
    "\n",
    "df = pd.read_csv('C:/Desktop/sales_data_1.csv')"
   ]
  },
  {
   "cell_type": "code",
   "execution_count": 21,
   "id": "545cb7fb",
   "metadata": {},
   "outputs": [
    {
     "data": {
      "text/html": [
       "<div>\n",
       "<style scoped>\n",
       "    .dataframe tbody tr th:only-of-type {\n",
       "        vertical-align: middle;\n",
       "    }\n",
       "\n",
       "    .dataframe tbody tr th {\n",
       "        vertical-align: top;\n",
       "    }\n",
       "\n",
       "    .dataframe thead th {\n",
       "        text-align: right;\n",
       "    }\n",
       "</style>\n",
       "<table border=\"1\" class=\"dataframe\">\n",
       "  <thead>\n",
       "    <tr style=\"text-align: right;\">\n",
       "      <th></th>\n",
       "      <th>Date</th>\n",
       "      <th>Firm bought from</th>\n",
       "      <th>Buying price</th>\n",
       "      <th>Customer</th>\n",
       "      <th>Selling price</th>\n",
       "      <th>Quantity sold</th>\n",
       "    </tr>\n",
       "  </thead>\n",
       "  <tbody>\n",
       "    <tr>\n",
       "      <th>0</th>\n",
       "      <td>21/08/23</td>\n",
       "      <td>Vendor6</td>\n",
       "      <td>72.11</td>\n",
       "      <td>Customer7</td>\n",
       "      <td>91.58</td>\n",
       "      <td>44</td>\n",
       "    </tr>\n",
       "    <tr>\n",
       "      <th>1</th>\n",
       "      <td>21/08/23</td>\n",
       "      <td>Vendor4</td>\n",
       "      <td>75.08</td>\n",
       "      <td>Customer7</td>\n",
       "      <td>83.71</td>\n",
       "      <td>17</td>\n",
       "    </tr>\n",
       "    <tr>\n",
       "      <th>2</th>\n",
       "      <td>21/08/23</td>\n",
       "      <td>Vendor7</td>\n",
       "      <td>83.93</td>\n",
       "      <td>Customer2</td>\n",
       "      <td>103.76</td>\n",
       "      <td>15</td>\n",
       "    </tr>\n",
       "    <tr>\n",
       "      <th>3</th>\n",
       "      <td>21/08/23</td>\n",
       "      <td>Vendor7</td>\n",
       "      <td>52.01</td>\n",
       "      <td>Customer3</td>\n",
       "      <td>64.53</td>\n",
       "      <td>7</td>\n",
       "    </tr>\n",
       "    <tr>\n",
       "      <th>4</th>\n",
       "      <td>21/08/23</td>\n",
       "      <td>Vendor2</td>\n",
       "      <td>98.91</td>\n",
       "      <td>Customer5</td>\n",
       "      <td>140.92</td>\n",
       "      <td>1</td>\n",
       "    </tr>\n",
       "  </tbody>\n",
       "</table>\n",
       "</div>"
      ],
      "text/plain": [
       "       Date Firm bought from  Buying price   Customer  Selling price  \\\n",
       "0  21/08/23          Vendor6         72.11  Customer7          91.58   \n",
       "1  21/08/23          Vendor4         75.08  Customer7          83.71   \n",
       "2  21/08/23          Vendor7         83.93  Customer2         103.76   \n",
       "3  21/08/23          Vendor7         52.01  Customer3          64.53   \n",
       "4  21/08/23          Vendor2         98.91  Customer5         140.92   \n",
       "\n",
       "   Quantity sold  \n",
       "0             44  \n",
       "1             17  \n",
       "2             15  \n",
       "3              7  \n",
       "4              1  "
      ]
     },
     "execution_count": 21,
     "metadata": {},
     "output_type": "execute_result"
    }
   ],
   "source": [
    "df.head()"
   ]
  },
  {
   "cell_type": "markdown",
   "id": "631b7672",
   "metadata": {},
   "source": [
    "# 1. What is their overall gross margin for their business?"
   ]
  },
  {
   "cell_type": "code",
   "execution_count": 22,
   "id": "ae02e219",
   "metadata": {},
   "outputs": [
    {
     "name": "stdout",
     "output_type": "stream",
     "text": [
      "Overall Gross Margin: 31482.749999999996\n"
     ]
    }
   ],
   "source": [
    "df['Gross Margin'] = (df['Selling price'] - df['Buying price']) * df['Quantity sold']\n",
    "\n",
    "overall_gross_margin = df['Gross Margin'].sum()\n",
    "\n",
    "print(\"Overall Gross Margin:\", overall_gross_margin)"
   ]
  },
  {
   "cell_type": "markdown",
   "id": "4c3b99b5",
   "metadata": {},
   "source": [
    "\n",
    "# 2. Which vendor is the most profitable"
   ]
  },
  {
   "cell_type": "code",
   "execution_count": 23,
   "id": "cb5149ad",
   "metadata": {},
   "outputs": [
    {
     "name": "stdout",
     "output_type": "stream",
     "text": [
      "Most Profitable Vendor: Vendor4\n"
     ]
    }
   ],
   "source": [
    "vendors = df['Firm bought from'].unique()\n",
    "profits_by_vendor = {}\n",
    "\n",
    "for vendor in vendors:\n",
    "    vendor_data = df[df['Firm bought from'] == vendor]\n",
    "    total_profit = (vendor_data['Selling price'] - vendor_data['Buying price']) * vendor_data['Quantity sold']\n",
    "    profits_by_vendor[vendor] = total_profit.sum()\n",
    "\n",
    "most_profitable_vendor = max(profits_by_vendor, key=profits_by_vendor.get)\n",
    "\n",
    "print(\"Most Profitable Vendor:\", most_profitable_vendor)"
   ]
  },
  {
   "cell_type": "markdown",
   "id": "ad6fe3a1",
   "metadata": {},
   "source": [
    "# 3. Which customer is the least profitable?"
   ]
  },
  {
   "cell_type": "code",
   "execution_count": 24,
   "id": "54d2ce8f",
   "metadata": {},
   "outputs": [
    {
     "name": "stdout",
     "output_type": "stream",
     "text": [
      "Least Profitable Customer: Customer3\n"
     ]
    }
   ],
   "source": [
    "customers = df['Customer'].unique()\n",
    "profits_by_customer = {}\n",
    "\n",
    "for customer in customers:\n",
    "    customer_data = df[df['Customer'] == customer]\n",
    "    total_profit = (customer_data['Selling price'] - customer_data['Buying price']) * customer_data['Quantity sold']\n",
    "    profits_by_customer[customer] = total_profit.sum()\n",
    "\n",
    "least_profitable_customer = min(profits_by_customer, key=profits_by_customer.get)\n",
    "\n",
    "\n",
    "print(\"Least Profitable Customer:\", least_profitable_customer)"
   ]
  },
  {
   "cell_type": "markdown",
   "id": "f796dfb4",
   "metadata": {},
   "source": [
    "# 4. Which day of the week was most profitable for them?"
   ]
  },
  {
   "cell_type": "code",
   "execution_count": 25,
   "id": "9a2ba084",
   "metadata": {},
   "outputs": [
    {
     "name": "stdout",
     "output_type": "stream",
     "text": [
      "Most Profitable Day of the Week: Monday\n"
     ]
    }
   ],
   "source": [
    "\n",
    "df['Date'] = pd.to_datetime(df['Date'], format='%d/%m/%y')\n",
    "df['Day of Week'] = df['Date'].dt.day_name()\n",
    "\n",
    "profits_by_day = {}\n",
    "\n",
    "for day in df['Day of Week'].unique():\n",
    "    day_data = df[df['Day of Week'] == day]\n",
    "    total_profit = (day_data['Selling price'] - day_data['Buying price']) * day_data['Quantity sold']\n",
    "    profits_by_day[day] = total_profit.sum()\n",
    "\n",
    "most_profitable_day = max(profits_by_day, key=profits_by_day.get)\n",
    "\n",
    "\n",
    "print(\"Most Profitable Day of the Week:\", most_profitable_day)"
   ]
  },
  {
   "cell_type": "markdown",
   "id": "6350cd31",
   "metadata": {},
   "source": [
    "# 5. Which day of the week was the least profitable for them?"
   ]
  },
  {
   "cell_type": "code",
   "execution_count": 26,
   "id": "e8bac786",
   "metadata": {},
   "outputs": [
    {
     "name": "stdout",
     "output_type": "stream",
     "text": [
      "Least Profitable Day of the Week: Sunday\n"
     ]
    }
   ],
   "source": [
    "least_profitable_day = min(profits_by_day, key=profits_by_day.get)\n",
    "print(\"Least Profitable Day of the Week:\", least_profitable_day)"
   ]
  },
  {
   "cell_type": "code",
   "execution_count": null,
   "id": "6ca6676d",
   "metadata": {},
   "outputs": [],
   "source": []
  }
 ],
 "metadata": {
  "kernelspec": {
   "display_name": "Python 3 (ipykernel)",
   "language": "python",
   "name": "python3"
  },
  "language_info": {
   "codemirror_mode": {
    "name": "ipython",
    "version": 3
   },
   "file_extension": ".py",
   "mimetype": "text/x-python",
   "name": "python",
   "nbconvert_exporter": "python",
   "pygments_lexer": "ipython3",
   "version": "3.9.12"
  }
 },
 "nbformat": 4,
 "nbformat_minor": 5
}
