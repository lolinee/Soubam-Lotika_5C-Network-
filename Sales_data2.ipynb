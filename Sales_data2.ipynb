{
 "cells": [
  {
   "cell_type": "code",
   "execution_count": 2,
   "id": "b7bdc7fe",
   "metadata": {
    "scrolled": true
   },
   "outputs": [
    {
     "data": {
      "text/html": [
       "<div>\n",
       "<style scoped>\n",
       "    .dataframe tbody tr th:only-of-type {\n",
       "        vertical-align: middle;\n",
       "    }\n",
       "\n",
       "    .dataframe tbody tr th {\n",
       "        vertical-align: top;\n",
       "    }\n",
       "\n",
       "    .dataframe thead th {\n",
       "        text-align: right;\n",
       "    }\n",
       "</style>\n",
       "<table border=\"1\" class=\"dataframe\">\n",
       "  <thead>\n",
       "    <tr style=\"text-align: right;\">\n",
       "      <th></th>\n",
       "      <th>Date</th>\n",
       "      <th>Firm bought from</th>\n",
       "      <th>Buying price</th>\n",
       "      <th>Quantity bought</th>\n",
       "      <th>Customer</th>\n",
       "      <th>Selling price</th>\n",
       "      <th>Quantity sold</th>\n",
       "    </tr>\n",
       "  </thead>\n",
       "  <tbody>\n",
       "    <tr>\n",
       "      <th>0</th>\n",
       "      <td>2023-08-21</td>\n",
       "      <td>Vendor6</td>\n",
       "      <td>72.11</td>\n",
       "      <td>60</td>\n",
       "      <td>Customer7</td>\n",
       "      <td>91.58</td>\n",
       "      <td>44</td>\n",
       "    </tr>\n",
       "    <tr>\n",
       "      <th>1</th>\n",
       "      <td>2023-08-21</td>\n",
       "      <td>Vendor4</td>\n",
       "      <td>75.08</td>\n",
       "      <td>92</td>\n",
       "      <td>Customer7</td>\n",
       "      <td>83.71</td>\n",
       "      <td>17</td>\n",
       "    </tr>\n",
       "    <tr>\n",
       "      <th>2</th>\n",
       "      <td>2023-08-21</td>\n",
       "      <td>Vendor7</td>\n",
       "      <td>83.93</td>\n",
       "      <td>16</td>\n",
       "      <td>Customer2</td>\n",
       "      <td>103.76</td>\n",
       "      <td>15</td>\n",
       "    </tr>\n",
       "    <tr>\n",
       "      <th>3</th>\n",
       "      <td>2023-08-21</td>\n",
       "      <td>Vendor7</td>\n",
       "      <td>52.01</td>\n",
       "      <td>62</td>\n",
       "      <td>Customer3</td>\n",
       "      <td>64.53</td>\n",
       "      <td>7</td>\n",
       "    </tr>\n",
       "    <tr>\n",
       "      <th>4</th>\n",
       "      <td>2023-08-21</td>\n",
       "      <td>Vendor2</td>\n",
       "      <td>98.91</td>\n",
       "      <td>1</td>\n",
       "      <td>Customer5</td>\n",
       "      <td>140.92</td>\n",
       "      <td>1</td>\n",
       "    </tr>\n",
       "  </tbody>\n",
       "</table>\n",
       "</div>"
      ],
      "text/plain": [
       "         Date Firm bought from  Buying price  Quantity bought   Customer  \\\n",
       "0  2023-08-21          Vendor6         72.11               60  Customer7   \n",
       "1  2023-08-21          Vendor4         75.08               92  Customer7   \n",
       "2  2023-08-21          Vendor7         83.93               16  Customer2   \n",
       "3  2023-08-21          Vendor7         52.01               62  Customer3   \n",
       "4  2023-08-21          Vendor2         98.91                1  Customer5   \n",
       "\n",
       "   Selling price  Quantity sold  \n",
       "0          91.58             44  \n",
       "1          83.71             17  \n",
       "2         103.76             15  \n",
       "3          64.53              7  \n",
       "4         140.92              1  "
      ]
     },
     "execution_count": 2,
     "metadata": {},
     "output_type": "execute_result"
    }
   ],
   "source": [
    "import pandas as pd\n",
    "\n",
    "df = pd.read_csv('C:/Desktop/sales_data_2.csv')\n",
    "\n",
    "df.head()"
   ]
  },
  {
   "cell_type": "markdown",
   "id": "ef9a23c8",
   "metadata": {},
   "source": [
    "# 1. Can you calculate a 3-day average of the daily gross profit from the sales_data_2.csv? "
   ]
  },
  {
   "cell_type": "code",
   "execution_count": 22,
   "id": "b7b851d0",
   "metadata": {
    "scrolled": false
   },
   "outputs": [
    {
     "name": "stdout",
     "output_type": "stream",
     "text": [
      "         Date Firm bought from  Buying price  Quantity bought   Customer  \\\n",
      "0  2023-08-21          Vendor6         72.11               60  Customer7   \n",
      "1  2023-08-21          Vendor4         75.08               92  Customer7   \n",
      "2  2023-08-21          Vendor7         83.93               16  Customer2   \n",
      "3  2023-08-21          Vendor7         52.01               62  Customer3   \n",
      "4  2023-08-21          Vendor2         98.91                1  Customer5   \n",
      "..        ...              ...           ...              ...        ...   \n",
      "63 2023-08-27          Vendor4         83.76               34  Customer3   \n",
      "64 2023-08-27          Vendor9         77.18               59  Customer4   \n",
      "65 2023-08-27          Vendor4         64.82               28  Customer6   \n",
      "66 2023-08-27          Vendor8         88.79               14  Customer3   \n",
      "69 2023-08-27          Vendor5         56.28               25  Customer6   \n",
      "\n",
      "    Selling price  Quantity sold  Gross Profit  3-Day Avg Gross Profit  \\\n",
      "0           91.58             44        856.68              856.680000   \n",
      "1           83.71             17        146.71              146.710000   \n",
      "2          103.76             15        297.45              433.613333   \n",
      "3           64.53              7         87.64              177.266667   \n",
      "4          140.92              1         42.01              142.366667   \n",
      "..            ...            ...           ...                     ...   \n",
      "63          96.10              7         86.38               78.670000   \n",
      "64         104.27             43       1164.87              427.866667   \n",
      "65          87.45             18        407.34              552.863333   \n",
      "66         105.59              5         84.00              552.070000   \n",
      "69          82.16              1         25.88              172.406667   \n",
      "\n",
      "    Cluster  Gross Margin  \n",
      "0         2         19.47  \n",
      "1         0          8.63  \n",
      "2         0         19.83  \n",
      "3         0         12.52  \n",
      "4         0         42.01  \n",
      "..      ...           ...  \n",
      "63        0         12.34  \n",
      "64        2         27.09  \n",
      "65        0         22.63  \n",
      "66        0         16.80  \n",
      "69        0         25.88  \n",
      "\n",
      "[70 rows x 11 columns]\n"
     ]
    }
   ],
   "source": [
    "df['Gross Profit'] = (df['Selling price'] - df['Buying price']) * df['Quantity sold']\n",
    "\n",
    "df['Date'] = pd.to_datetime(df['Date'], format='%Y-%m-%d')\n",
    "\n",
    "df = df.sort_values(by='Date')\n",
    "\n",
    "df['3-Day Avg Gross Profit'] = df['Gross Profit']\n",
    "\n",
    "for i in range(2, len(df)):\n",
    "    df.loc[df.index[i], '3-Day Avg Gross Profit'] = (df.iloc[i-2:i+1]['Gross Profit'].sum()) / 3\n",
    "\n",
    "print(df)"
   ]
  },
  {
   "cell_type": "markdown",
   "id": "e5b6b6ed",
   "metadata": {},
   "source": [
    "# 2. Additionally, provide insights into how this 3-day trend changes over the time period covered in the dataset."
   ]
  },
  {
   "cell_type": "code",
   "execution_count": 21,
   "id": "6ead33d6",
   "metadata": {},
   "outputs": [
    {
     "data": {
      "image/png": "[encoded data removed]",
      "text/plain": [
       "<Figure size 1000x600 with 1 Axes>"
      ]
     },
     "metadata": {},
     "output_type": "display_data"
    }
   ],
   "source": [
    "import matplotlib.pyplot as plt\n",
    "\n",
    "plt.figure(figsize=(10, 6))\n",
    "plt.plot(df['Date'], df['3-Day Avg Gross Profit'], label='3-Day Avg Gross Profit', color='blue')\n",
    "plt.xlabel('Date')\n",
    "plt.ylabel('3-Day Avg Gross Profit')\n",
    "plt.title('3-Day Average Gross Profit Over Time')\n",
    "plt.grid(True)\n",
    "plt.legend()\n",
    "plt.show()"
   ]
  },
  {
   "cell_type": "markdown",
   "id": "4f3ae028",
   "metadata": {},
   "source": [
    "From the line graph, over the week, spike in gross margin is obseved in the satrt of the week, the middle of the week and weekends. Thsi suggests that higher sales are generated on weekends maybe due to customers having free time for shopping. Based on different types of customers, the low sales may be due to most of the customers being busy on weekdays.   "
   ]
  },
  {
   "cell_type": "markdown",
   "id": "a697b8a3",
   "metadata": {},
   "source": [
    "# 3. Can you optimize the sales process to ensure gross margin is maximized?\n",
    "    "
   ]
  },
  {
   "cell_type": "markdown",
   "id": "bc6881b9",
   "metadata": {},
   "source": [
    "We can perform customer segmentation by analyzing customer data to segment them based on behavior, preferences, and profitability. One way to perform customer segmentation is by clustering, we can cluster the \"Buying price,\" \"Selling price,\" \"Quantity sold,\" features."
   ]
  },
  {
   "cell_type": "markdown",
   "id": "b6950bfa",
   "metadata": {},
   "source": [
    "# 3.1. Would you fire any vendor?"
   ]
  },
  {
   "cell_type": "markdown",
   "id": "4cbbcb9f",
   "metadata": {},
   "source": [
    "First we must evaluate a vendor's performance based on which we can assess their creditbility to the company. Their performance can be evaluated on:\n",
    "1. Gross Margin\n",
    "2. Delivery Timeliness\n",
    "3. Product Quality\n",
    "4. Customer Satisfaction\n",
    "\n",
    "There should be some criteria with proper reasoning for firing a vendor.\n",
    "For example:\n",
    "1. Failure to Meet Deadlines.\n",
    "2. Lack of Communication and Responsiveness.\n",
    "3. Uncompetitive Pricing.\n",
    "4. Unreliable Supply Chain."
   ]
  },
  {
   "cell_type": "code",
   "execution_count": 19,
   "id": "9c879da5",
   "metadata": {},
   "outputs": [
    {
     "name": "stdout",
     "output_type": "stream",
     "text": [
      "The vendor with the least gross margin is: Vendor6\n"
     ]
    }
   ],
   "source": [
    "vendor_stats = df.groupby('Firm bought from').agg({\n",
    "    'Gross Margin': 'sum',\n",
    "    'Quantity bought': 'sum'\n",
    "}).sort_values(by=['Gross Margin', 'Quantity bought'], ascending=[True, True])\n",
    "\n",
    "# Get the vendor with the least gross margin \n",
    "least_gross_margin_vendor = vendor_stats['Gross Margin'].idxmin()\n",
    "\n",
    "print(f\"The vendor with the least gross margin is: {least_gross_margin_vendor}\")"
   ]
  },
  {
   "cell_type": "markdown",
   "id": "152232ba",
   "metadata": {},
   "source": [
    "# 3.2. Would you let go of any customer?"
   ]
  },
  {
   "cell_type": "markdown",
   "id": "e3c7701c",
   "metadata": {},
   "source": [
    "Similar to Vendors, a customer's performance evaluation can be done on the following:\n",
    "1. Gross Margin\n",
    "2. Frequency of Orders\n",
    "3. Order Size\n",
    "\n",
    "Based on the above evaluation matrices, a customer can be let go for reasons such as:\n",
    "1. If a customer consistently generates low gross margins and the cost of servicing the customer outweighs the benefits.\n",
    "2. If a customer makes excessive demands, requests unrealistic discounts, or expects services beyond what is feasible.\n",
    "3. If a customer has a history of late payments, non-payments, or financial instability that poses a risk to your business.\n"
   ]
  },
  {
   "cell_type": "code",
   "execution_count": 20,
   "id": "e07cc956",
   "metadata": {
    "scrolled": true
   },
   "outputs": [
    {
     "name": "stdout",
     "output_type": "stream",
     "text": [
      "The customer with the least gross margin and high quantity bought is: Gross Margin       184.38\n",
      "Quantity bought    573.00\n",
      "Name: Customer8, dtype: float64\n"
     ]
    }
   ],
   "source": [
    "#assuming quantity bought is quantity bought by customer\n",
    "customer_stats = df.groupby('Customer').agg({\n",
    "    'Gross Margin': 'sum',\n",
    "    'Quantity bought': 'sum'\n",
    "}).sort_values(by=['Quantity bought', 'Gross Margin'], ascending=[False, True])\n",
    "\n",
    "\n",
    "least_gross_margin_high_quantity_customer = customer_stats.iloc[0]\n",
    "\n",
    "print(f\"The customer with the least gross margin and high quantity bought is: {least_gross_margin_high_quantity_customer}\")"
   ]
  },
  {
   "cell_type": "markdown",
   "id": "ed7c6c2b",
   "metadata": {},
   "source": [
    "# 4. To ensure competitive pricing, Ram wants to benchmark their buying and selling prices against the market. Could you calculate the 25th, 50th (median), and 75th percentiles for both buying and selling prices? \n"
   ]
  },
  {
   "cell_type": "code",
   "execution_count": 13,
   "id": "733efad8",
   "metadata": {},
   "outputs": [
    {
     "name": "stdout",
     "output_type": "stream",
     "text": [
      "Buying Price Percentiles:\n",
      "25th Percentile: 29.9\n",
      "50th Percentile (Median): 60.76\n",
      "75th Percentile: 78.32000000000001\n",
      "\n",
      "Selling Price Percentiles:\n",
      "25th Percentile: 38.975\n",
      "50th Percentile (Median): 78.99000000000001\n",
      "75th Percentile: 103.39750000000001\n"
     ]
    }
   ],
   "source": [
    "import numpy as np\n",
    "\n",
    "\n",
    "buying_price_percentiles = np.percentile(df['Buying price'], [25, 50, 75])\n",
    "\n",
    "selling_price_percentiles = np.percentile(df['Selling price'], [25, 50, 75])\n",
    "\n",
    "print(\"Buying Price Percentiles:\")\n",
    "print(f\"25th Percentile: {buying_price_percentiles[0]}\")\n",
    "print(f\"50th Percentile (Median): {buying_price_percentiles[1]}\")\n",
    "print(f\"75th Percentile: {buying_price_percentiles[2]}\")\n",
    "\n",
    "print(\"\\nSelling Price Percentiles:\")\n",
    "print(f\"25th Percentile: {selling_price_percentiles[0]}\")\n",
    "print(f\"50th Percentile (Median): {selling_price_percentiles[1]}\")\n",
    "print(f\"75th Percentile: {selling_price_percentiles[2]}\")\n"
   ]
  },
  {
   "cell_type": "markdown",
   "id": "ecad40de",
   "metadata": {},
   "source": [
    "# 5. Additionally, analyze how often the Sapota’s prices fall below the 25th percentile or above the 75th percentile, potentially indicating they are buying at a high price or selling at a low price relative to their own transaction history.\n"
   ]
  },
  {
   "cell_type": "code",
   "execution_count": 14,
   "id": "d2eefbb8",
   "metadata": {},
   "outputs": [
    {
     "name": "stdout",
     "output_type": "stream",
     "text": [
      "Buying price below 25th percentile: 18 times\n",
      "Buying price above 75th percentile: 18 times\n",
      "Selling price below 25th percentile: 18 times\n",
      "Selling price above 75th percentile: 18 times\n"
     ]
    }
   ],
   "source": [
    "buying_price_percentiles_sapota = np.percentile(df['Buying price'], [25, 75])\n",
    "selling_price_percentiles_sapota = np.percentile(df['Selling price'], [25, 75])\n",
    "\n",
    "\n",
    "below_25th_buying = df[df['Buying price'] < buying_price_percentiles_sapota[0]].shape[0]\n",
    "above_75th_buying = df[df['Buying price'] > buying_price_percentiles_sapota[1]].shape[0]\n",
    "\n",
    "below_25th_selling = df[df['Selling price'] < selling_price_percentiles_sapota[0]].shape[0]\n",
    "above_75th_selling = df[df['Selling price'] > selling_price_percentiles_sapota[1]].shape[0]\n",
    "\n",
    "print(f\"Buying price below 25th percentile: {below_25th_buying} times\")\n",
    "print(f\"Buying price above 75th percentile: {above_75th_buying} times\")\n",
    "\n",
    "print(f\"Selling price below 25th percentile: {below_25th_selling} times\")\n",
    "print(f\"Selling price above 75th percentile: {above_75th_selling} times\")\n"
   ]
  },
  {
   "cell_type": "markdown",
   "id": "23d30de1",
   "metadata": {},
   "source": [
    "# Ram’s manager, Bharath comes in. \n",
    "\n",
    "## 1. Bharath says that Vendor 4 has to be honored.  What impact does it have on your optimal gross margin? \n"
   ]
  },
  {
   "cell_type": "code",
   "execution_count": 15,
   "id": "758e0f83",
   "metadata": {},
   "outputs": [
    {
     "name": "stdout",
     "output_type": "stream",
     "text": [
      "Optimal Gross Margin without honoring Vendor 4: 1207.1999999999998\n",
      "Optimal Gross Margin with honoring Vendor 4: 1377.3099999999997\n",
      "Impact on Gross Margin by honoring Vendor 4: 170.1099999999999\n"
     ]
    }
   ],
   "source": [
    "gross_margin_without_vendor4 = (df['Selling price'] - df['Buying price']).sum()\n",
    "\n",
    "vendor4_transactions = df[df['Firm bought from'] == 'Vendor4']\n",
    "\n",
    "\n",
    "total_buying_price_vendor4 = vendor4_transactions['Buying price'].sum()\n",
    "total_selling_price_vendor4 = vendor4_transactions['Selling price'].sum()\n",
    "\n",
    "gross_margin_with_vendor4 = gross_margin_without_vendor4 + (total_selling_price_vendor4 - total_buying_price_vendor4)\n",
    "\n",
    "print(f'Optimal Gross Margin without honoring Vendor 4: {gross_margin_without_vendor4}')\n",
    "print(f'Optimal Gross Margin with honoring Vendor 4: {gross_margin_with_vendor4}')\n",
    "\n",
    "\n",
    "impact_on_gross_margin = gross_margin_with_vendor4 - gross_margin_without_vendor4\n",
    "print(f'Impact on Gross Margin by honoring Vendor 4: {impact_on_gross_margin}')"
   ]
  },
  {
   "cell_type": "markdown",
   "id": "1173b3dc",
   "metadata": {},
   "source": [
    "our gross margin increases by 170 in gross margin in the scenario that Vendor 4 is honored."
   ]
  },
  {
   "cell_type": "markdown",
   "id": "ed0c4849",
   "metadata": {},
   "source": [
    "## 2. Which vendor should we have a strategic tie up so that we source only from them (the goal here is to have the highest gross margin)\n",
    "    - What’s the theoretical max margin the firm could have from that branch? "
   ]
  },
  {
   "cell_type": "code",
   "execution_count": 16,
   "id": "ee343a00",
   "metadata": {},
   "outputs": [
    {
     "name": "stdout",
     "output_type": "stream",
     "text": [
      "The most profitable vendor is: Vendor7\n",
      "Theoretical maximum gross margin from Vendor7: 224.98\n"
     ]
    }
   ],
   "source": [
    "df['Gross Margin'] = df['Selling price'] - df['Buying price']\n",
    "vendor_gross_margin = df.groupby('Firm bought from')['Gross Margin'].sum()\n",
    "\n",
    "# Identifyying most profitable vendor\n",
    "most_profitable_vendor = vendor_gross_margin.idxmax()\n",
    "max_margin = vendor_gross_margin.max()\n",
    "\n",
    "print(f\"The most profitable vendor is: {most_profitable_vendor}\")\n",
    "print(f\"Theoretical maximum gross margin from {most_profitable_vendor}: {max_margin}\")\n"
   ]
  },
  {
   "cell_type": "code",
   "execution_count": null,
   "id": "3845d5f6",
   "metadata": {},
   "outputs": [],
   "source": []
  }
 ],
 "metadata": {
  "kernelspec": {
   "display_name": "Python 3 (ipykernel)",
   "language": "python",
   "name": "python3"
  },
  "language_info": {
   "codemirror_mode": {
    "name": "ipython",
    "version": 3
   },
   "file_extension": ".py",
   "mimetype": "text/x-python",
   "name": "python",
   "nbconvert_exporter": "python",
   "pygments_lexer": "ipython3",
   "version": "3.9.12"
  }
 },
 "nbformat": 4,
 "nbformat_minor": 5
}
